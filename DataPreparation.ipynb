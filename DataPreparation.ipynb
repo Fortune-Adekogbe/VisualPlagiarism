{
  "cells": [
    {
      "cell_type": "markdown",
      "metadata": {
        "id": "view-in-github",
        "colab_type": "text"
      },
      "source": [
        "<a href=\"https://colab.research.google.com/github/Fortune-Adekogbe/VisualPlagiarism/blob/main/DataPreparation.ipynb\" target=\"_parent\"><img src=\"https://colab.research.google.com/assets/colab-badge.svg\" alt=\"Open In Colab\"/></a>"
      ]
    },
    {
      "cell_type": "code",
      "execution_count": null,
      "metadata": {
        "colab": {
          "base_uri": "https://localhost:8080/"
        },
        "id": "MBp6nnk6R06B",
        "outputId": "33482ce1-1029-400f-8d57-f3e68d71dde1"
      },
      "outputs": [
        {
          "output_type": "stream",
          "name": "stdout",
          "text": [
            "/content/drive/MyDrive/Projects/VisualPlagiarism\n"
          ]
        }
      ],
      "source": [
        "%cd /content/drive/MyDrive/Projects/VisualPlagiarism"
      ]
    },
    {
      "cell_type": "code",
      "execution_count": null,
      "metadata": {
        "colab": {
          "base_uri": "https://localhost:8080/"
        },
        "id": "UD_AKS9Dm9Ly",
        "outputId": "0de8deff-8184-4683-8ab4-008546048eb6"
      },
      "outputs": [
        {
          "output_type": "stream",
          "name": "stdout",
          "text": [
            " BLIP\t       jpeg\t   'Plagiarised images'\t\t   'Plagiarised Images UI - Sheet1.csv'\n",
            " CLIP\t       MetaCLIP    'Plagiarised images 1'\t    sigLIP\n",
            " CS_Detector   MobileCLIP  'Plagiarised Images UI.gsheet'\n"
          ]
        }
      ],
      "source": [
        "!ls data"
      ]
    },
    {
      "cell_type": "markdown",
      "metadata": {
        "id": "YIyIe-_ZMeth"
      },
      "source": [
        "## Setup"
      ]
    },
    {
      "cell_type": "code",
      "execution_count": null,
      "metadata": {
        "id": "SAowC8fTRtqc"
      },
      "outputs": [],
      "source": [
        "from tqdm.auto import tqdm\n",
        "import pandas as pd\n",
        "import numpy as np\n",
        "from tqdm.auto import tqdm\n",
        "import os\n",
        "import json\n",
        "import time\n",
        "from datetime import date\n",
        "from google.colab import userdata"
      ]
    },
    {
      "cell_type": "markdown",
      "metadata": {
        "id": "8WmkTdwvKi-H"
      },
      "source": [
        "## Common Screens\n",
        "\n",
        "search for design URLs: https://commoncrawl.org/get-started\n",
        "For using Asyncio with S3 - https://skeptric.com/reading-parquet-metadata/"
      ]
    },
    {
      "cell_type": "markdown",
      "metadata": {
        "id": "-RQW1YIb5l9P"
      },
      "source": [
        "### Download"
      ]
    },
    {
      "cell_type": "code",
      "execution_count": null,
      "metadata": {
        "colab": {
          "base_uri": "https://localhost:8080/"
        },
        "collapsed": true,
        "id": "OPl_ydHSBEUd",
        "outputId": "a14328db-8f13-4176-a40f-604ddaa67d1d"
      },
      "outputs": [
        {
          "output_type": "stream",
          "name": "stdout",
          "text": [
            "\u001b[?25l   \u001b[90m━━━━━━━━━━━━━━━━━━━━━━━━━━━━━━━━━━━━━━━━\u001b[0m \u001b[32m0.0/139.2 kB\u001b[0m \u001b[31m?\u001b[0m eta \u001b[36m-:--:--\u001b[0m\r\u001b[2K   \u001b[90m━━━━━━━━━━━━━━━━━━━━━━━━━━━━━━━━━━━━━━━━\u001b[0m \u001b[32m139.2/139.2 kB\u001b[0m \u001b[31m12.7 MB/s\u001b[0m eta \u001b[36m0:00:00\u001b[0m\n",
            "\u001b[?25h\u001b[?25l   \u001b[90m━━━━━━━━━━━━━━━━━━━━━━━━━━━━━━━━━━━━━━━━\u001b[0m \u001b[32m0.0/12.4 MB\u001b[0m \u001b[31m?\u001b[0m eta \u001b[36m-:--:--\u001b[0m\r\u001b[2K   \u001b[91m━━━━━━━━━━━━━━━━━━━━━━━━━\u001b[0m\u001b[91m╸\u001b[0m\u001b[90m━━━━━━━━━━━━━━\u001b[0m \u001b[32m8.0/12.4 MB\u001b[0m \u001b[31m241.3 MB/s\u001b[0m eta \u001b[36m0:00:01\u001b[0m\r\u001b[2K   \u001b[91m━━━━━━━━━━━━━━━━━━━━━━━━━━━━━━━━━━━━━━━\u001b[0m\u001b[91m╸\u001b[0m \u001b[32m12.4/12.4 MB\u001b[0m \u001b[31m235.4 MB/s\u001b[0m eta \u001b[36m0:00:01\u001b[0m\r\u001b[2K   \u001b[90m━━━━━━━━━━━━━━━━━━━━━━━━━━━━━━━━━━━━━━━━\u001b[0m \u001b[32m12.4/12.4 MB\u001b[0m \u001b[31m119.6 MB/s\u001b[0m eta \u001b[36m0:00:00\u001b[0m\n",
            "\u001b[?25h\u001b[?25l   \u001b[90m━━━━━━━━━━━━━━━━━━━━━━━━━━━━━━━━━━━━━━━━\u001b[0m \u001b[32m0.0/82.7 kB\u001b[0m \u001b[31m?\u001b[0m eta \u001b[36m-:--:--\u001b[0m\r\u001b[2K   \u001b[90m━━━━━━━━━━━━━━━━━━━━━━━━━━━━━━━━━━━━━━━━\u001b[0m \u001b[32m82.7/82.7 kB\u001b[0m \u001b[31m8.2 MB/s\u001b[0m eta \u001b[36m0:00:00\u001b[0m\n",
            "\u001b[?25h"
          ]
        }
      ],
      "source": [
        "!pip install boto3 -qq"
      ]
    },
    {
      "cell_type": "code",
      "execution_count": null,
      "metadata": {
        "id": "E6R4eJNwlVnC"
      },
      "outputs": [],
      "source": [
        "from google.colab import userdata\n",
        "import boto3\n",
        "from botocore.exceptions import NoCredentialsError, PartialCredentialsError\n",
        "from botocore.config import Config\n",
        "import concurrent.futures\n",
        "\n",
        "config = Config(\n",
        "    retries = {\n",
        "        'max_attempts': 2,\n",
        "        'mode': 'standard'\n",
        "    },\n",
        "    max_pool_connections=25  # Increase the pool size as needed\n",
        ")\n",
        "\n",
        "# Create a session using your AWS credentials\n",
        "session = boto3.Session(\n",
        "    aws_access_key_id=userdata.get('AWS_ACCESS_KEY_ID'),\n",
        "    aws_secret_access_key=userdata.get('AWS_SECRET_ACCESS_KEY'),\n",
        "    region_name='us-west-2'\n",
        ")\n",
        "\n",
        "# Create an S3 client using the session\n",
        "s3 = session.client('s3', config=config)\n",
        "\n",
        "# Specify the bucket name\n",
        "bucket_name = 'common-screens'\n",
        "\n",
        "prefix = \"data/jpeg/4\"\n",
        "os.makedirs(prefix, exist_ok=True)\n",
        "\n",
        "max_objects = 200_000\n",
        "\n",
        "def download_object(obj):\n",
        "    try:\n",
        "        if not os.path.exists(obj[\"Key\"]):\n",
        "\n",
        "            s3.download_file(bucket_name, obj['Key'], obj['Key'].replace('data/jpeg', prefix))\n",
        "    except Exception as e:\n",
        "        print(f\"Failed to download {obj['Key']}: {e}\")\n",
        "\n",
        "try:\n",
        "    # Initialize paginator\n",
        "    paginator = s3.get_paginator('list_objects_v2')\n",
        "    page_iterator = paginator.paginate(Bucket=bucket_name, Prefix=prefix)\n",
        "\n",
        "    # Counter to limit the number of objects listed\n",
        "    object_count = 0\n",
        "\n",
        "    with concurrent.futures.ThreadPoolExecutor(max_workers=20) as executor:\n",
        "        for page in page_iterator:\n",
        "            if 'Contents' in page:\n",
        "                futures = []\n",
        "                for obj in page['Contents']:\n",
        "                    if object_count >= max_objects:\n",
        "                        break\n",
        "                    futures.append(executor.submit(download_object, obj))\n",
        "                    object_count += 1\n",
        "                # Ensure all futures are completed\n",
        "                concurrent.futures.wait(futures)\n",
        "            if object_count >= max_objects:\n",
        "                break\n",
        "\n",
        "except (NoCredentialsError, PartialCredentialsError):\n",
        "    print(\"Credentials are not available or incomplete.\")"
      ]
    },
    {
      "cell_type": "code",
      "execution_count": null,
      "metadata": {
        "id": "a2AK7Ole5iQb"
      },
      "outputs": [],
      "source": [
        "import boto3\n",
        "# Create a session using your AWS credentials\n",
        "session = boto3.Session(\n",
        "    aws_access_key_id=userdata.get('AWS_ACCESS_KEY_ID'),\n",
        "    aws_secret_access_key=userdata.get('AWS_SECRET_ACCESS_KEY'),\n",
        "    region_name='us-west-2'\n",
        ")\n",
        "bucket_name = 'common-screens'\n",
        "\n",
        "s3 = session.client('s3') # Directly create the s3 client\n",
        "paginator = s3.get_paginator('list_objects_v2')\n",
        "page_iterator = paginator.paginate(Bucket=bucket_name, Prefix=f\"data/jpeg/22\")\n",
        "\n",
        "# Counter to limit the number of objects listed\n",
        "object_count = 0\n",
        "max_objects = 10\n",
        "\n",
        "tasks = []\n",
        "for page in page_iterator:\n",
        "    if 'Contents' in page:\n",
        "        for obj in page['Contents']:\n",
        "            if object_count >= max_objects:\n",
        "                break\n",
        "            print(obj[\"Key\"])\n",
        "            object_count += 1\n",
        "    if object_count >= max_objects:\n",
        "        break"
      ]
    },
    {
      "cell_type": "markdown",
      "metadata": {
        "id": "7LuVxa4f5owi"
      },
      "source": [
        "### Data Cleaning\n",
        "\n",
        "1. Handle repititions. Like the google sign in page.\n",
        "2. Handle adult content pages. Like the one at sorted index 104,000. ✅"
      ]
    },
    {
      "cell_type": "code",
      "execution_count": null,
      "metadata": {
        "id": "PhqO1CX2qdED"
      },
      "outputs": [],
      "source": [
        "import os\n",
        "import concurrent.futures\n",
        "from tqdm import tqdm\n",
        "import shutil\n",
        "\n",
        "def move_file(file_):\n",
        "    src_file = os.path.join(src_folder, file_)\n",
        "    dst_file = os.path.join(dst_folder, file_)\n",
        "    shutil.move(src_file, dst_file)\n",
        "\n",
        "def merge_folders():\n",
        "    with concurrent.futures.ProcessPoolExecutor(max_workers=24) as executor:\n",
        "        futures = []\n",
        "        for filename in os.listdir(src_folder)[:283]:\n",
        "            futures.append(executor.submit(move_file, filename))\n",
        "\n",
        "        # Wrap the futures with tqdm to create a progress bar\n",
        "        for future in tqdm(concurrent.futures.as_completed(futures), total=len(futures)):\n",
        "            result = future.result()\n",
        "\n",
        "# Example usage\n",
        "src_folder = \"data/jpeg/3\"\n",
        "dst_folder = \"data/jpeg\"\n",
        "merge_folders()"
      ]
    },
    {
      "cell_type": "code",
      "execution_count": null,
      "metadata": {
        "id": "x33mp3Ak1a0X"
      },
      "outputs": [],
      "source": [
        "prefix = \"data/jpeg\""
      ]
    },
    {
      "cell_type": "code",
      "execution_count": null,
      "metadata": {
        "id": "wpzQBnlKIZBH"
      },
      "outputs": [],
      "source": [
        "import os\n",
        "\n",
        "list(os.scandir('data'))"
      ]
    },
    {
      "cell_type": "code",
      "execution_count": null,
      "metadata": {
        "id": "iwojqc9cJhFd"
      },
      "outputs": [],
      "source": [
        "filenames = os.scandir(prefix)"
      ]
    },
    {
      "cell_type": "code",
      "execution_count": null,
      "metadata": {
        "id": "gEAd7KOVu-E2"
      },
      "outputs": [],
      "source": [
        "filenames = list(filenames)"
      ]
    },
    {
      "cell_type": "code",
      "execution_count": null,
      "metadata": {
        "id": "euy1dewBAyV6"
      },
      "outputs": [],
      "source": [
        "100_000 - len(filenames)"
      ]
    },
    {
      "cell_type": "code",
      "execution_count": null,
      "metadata": {
        "id": "865dWu883Ln3"
      },
      "outputs": [],
      "source": [
        "filenames[-10:]"
      ]
    },
    {
      "cell_type": "code",
      "execution_count": null,
      "metadata": {
        "id": "RehwPqxHA-hF"
      },
      "outputs": [],
      "source": [
        "names = sorted([x.name for x in filenames if x.name.endswith(\"jpeg\")])"
      ]
    },
    {
      "cell_type": "code",
      "execution_count": null,
      "metadata": {
        "id": "phZ9wLMwBJu1"
      },
      "outputs": [],
      "source": [
        "names[-10:]"
      ]
    },
    {
      "cell_type": "markdown",
      "metadata": {
        "id": "BN1VB_2tnZpO"
      },
      "source": [
        "#### Remove Similar Images?"
      ]
    },
    {
      "cell_type": "code",
      "execution_count": null,
      "metadata": {
        "id": "bcg57lbvSYgc"
      },
      "outputs": [],
      "source": [
        "from collections import defaultdict\n",
        "\n",
        "unik = defaultdict(list)\n",
        "\n",
        "for i in filenames:\n",
        "    if i.name.endswith(\"jpeg\"):\n",
        "        unik[i.name.split('-', 1)[1]].append(i.path)"
      ]
    },
    {
      "cell_type": "code",
      "execution_count": null,
      "metadata": {
        "id": "nLsdWgKASYdE"
      },
      "outputs": [],
      "source": [
        "sum([1 for i in unik if len(unik[i]) > 1])"
      ]
    },
    {
      "cell_type": "code",
      "execution_count": null,
      "metadata": {
        "id": "B97tfT3wU9Xf"
      },
      "outputs": [],
      "source": [
        "unik"
      ]
    },
    {
      "cell_type": "code",
      "execution_count": null,
      "metadata": {
        "collapsed": true,
        "id": "MZAO6wbhAuam"
      },
      "outputs": [],
      "source": [
        "from PIL import Image\n",
        "img = Image.open('data/jpeg/1007-5462-info--.jpeg')\n",
        "w, h = img.size\n",
        "img.resize((w//4, h//4))"
      ]
    },
    {
      "cell_type": "code",
      "execution_count": null,
      "metadata": {
        "id": "ExW8ByFNl4Mq"
      },
      "outputs": [],
      "source": [
        "from PIL import Image\n",
        "img = Image.open('data/jpeg/0204-5462-info--.jpeg')\n",
        "w, h = img.size\n",
        "img.resize((w//4, h//4))"
      ]
    },
    {
      "cell_type": "code",
      "execution_count": null,
      "metadata": {
        "id": "cxMu0siiNi0Q"
      },
      "outputs": [],
      "source": [
        "import cv2\n",
        "\n",
        "def get_mean_variance(image_path):\n",
        "    img = cv2.imread(image_path)\n",
        "    return (img.mean(), img.var()), image_path\n",
        "\n",
        "get_mean_variance('data/jpeg/0204-5462-info--.jpeg')"
      ]
    },
    {
      "cell_type": "code",
      "execution_count": null,
      "metadata": {
        "id": "o9tkUwPbpMh1"
      },
      "outputs": [],
      "source": [
        "get_mean_variance('data/jpeg/1007-5462-info--.jpeg')"
      ]
    },
    {
      "cell_type": "code",
      "execution_count": null,
      "metadata": {
        "id": "BxFOjydxbvWi"
      },
      "outputs": [],
      "source": [
        "get_mean_variance('data/jpeg/1000craft-blogspot-com--.jpeg')"
      ]
    },
    {
      "cell_type": "code",
      "execution_count": null,
      "metadata": {
        "id": "NdQQAmgHbkTv"
      },
      "outputs": [],
      "source": [
        "for i in filenames:\n",
        "    if 'blogspot' in i.name.lower():\n",
        "        print(i.name)"
      ]
    },
    {
      "cell_type": "code",
      "execution_count": null,
      "metadata": {
        "id": "PbmjP7z7R8hk"
      },
      "outputs": [],
      "source": [
        "filenames[0]"
      ]
    },
    {
      "cell_type": "code",
      "execution_count": null,
      "metadata": {
        "cellView": "form",
        "id": "xFs56TabkntS"
      },
      "outputs": [],
      "source": [
        "# @title\n",
        "# import concurrent\n",
        "\n",
        "# with concurrent.futures.ThreadPoolExecutor(max_workers=24) as executor:\n",
        "#     futures = []\n",
        "#     for i in filenames:\n",
        "#         futures.append(executor.submit(get_mean_variance, i.path))\n",
        "#     # Ensure all futures are completed\n",
        "#     concurrent.futures.wait(futures)\n",
        "\n",
        "#     results = defaultdict(list)\n",
        "#     for future in futures:\n",
        "#         try:\n",
        "#             mv, ip = future.result()\n",
        "#             results[mv].append(ip)\n",
        "#         except Exception as e:\n",
        "#             print(f\"An error occurred: {e}\")"
      ]
    },
    {
      "cell_type": "code",
      "execution_count": null,
      "metadata": {
        "id": "SzBlW407Tetw"
      },
      "outputs": [],
      "source": [
        "import concurrent.futures\n",
        "from tqdm import tqdm\n",
        "from collections import defaultdict\n",
        "\n",
        "# Assume get_mean_variance is already defined\n",
        "\n",
        "results = defaultdict(list)\n",
        "\n",
        "with concurrent.futures.ThreadPoolExecutor(max_workers=30) as executor:\n",
        "    futures = []\n",
        "    for i in filenames:\n",
        "        futures.append(executor.submit(get_mean_variance, i.path))\n",
        "\n",
        "    # Wrap the futures with tqdm to create a progress bar\n",
        "    for future in tqdm(concurrent.futures.as_completed(futures), total=len(futures)):\n",
        "        try:\n",
        "            mv, ip = future.result()\n",
        "            results[mv].append(ip)\n",
        "        except Exception as e:\n",
        "            print(f\"An error occurred: {e}\")"
      ]
    },
    {
      "cell_type": "code",
      "execution_count": null,
      "metadata": {
        "id": "R-uT5i5HSP9t"
      },
      "outputs": [],
      "source": [
        "S = 0\n",
        "for i in results:\n",
        "    if len(results[i]) > 1:\n",
        "        for j in results[i][1:]:\n",
        "            try:\n",
        "                os.remove(j)\n",
        "            except:\n",
        "                S += 1\n",
        "print(S)"
      ]
    },
    {
      "cell_type": "markdown",
      "metadata": {
        "id": "l572uLFUpJuv"
      },
      "source": [
        "#### Remove Blank"
      ]
    },
    {
      "cell_type": "code",
      "execution_count": null,
      "metadata": {
        "id": "N_znDaYkUv8q"
      },
      "outputs": [],
      "source": [
        "def is_mv_blank(mean_value, var_value, threshold_mean=250, threshold_var=10):\n",
        "    return mean_value > threshold_mean and var_value < threshold_var\n",
        "S = 0\n",
        "\n",
        "for i in results:\n",
        "    if is_mv_blank(i[0], i[1]):\n",
        "        print(i)\n",
        "        for j in results[i]:\n",
        "            try:\n",
        "                os.remove(j)\n",
        "                S += 1\n",
        "            except:\n",
        "                ...\n",
        "print(S)"
      ]
    },
    {
      "cell_type": "code",
      "execution_count": null,
      "metadata": {
        "id": "2oDbZurV98zQ"
      },
      "outputs": [],
      "source": [
        "import os, shutil\n",
        "from PIL import Image\n",
        "import numpy as np\n",
        "from multiprocessing import Pool\n",
        "\n",
        "def is_blank(image_path, threshold_mean=250, threshold_var=10):\n",
        "    try:\n",
        "        with Image.open(image_path) as img:\n",
        "            img = img.convert('L')  # Convert to grayscale\n",
        "            img_array = np.array(img)\n",
        "            mean_value = np.mean(img_array)\n",
        "            var_value = np.var(img_array)\n",
        "            return mean_value > threshold_mean and var_value < threshold_var\n",
        "    except Exception as e:\n",
        "        return False\n",
        "\n",
        "def process_images(image_paths, output_folder):\n",
        "    blank_images = []\n",
        "    for image_path in tqdm(image_paths):\n",
        "        if is_blank(image_path):\n",
        "            blank_images.append(image_path)\n",
        "            dest_path = os.path.join(output_folder, os.path.basename(image_path))\n",
        "            shutil.move(image_path, dest_path)\n",
        "            # os.remove(image_path)\n",
        "    return blank_images\n",
        "\n",
        "def main(image_folder, output_folder, num_workers=16):\n",
        "    image_paths = [os.path.join(image_folder, fname) for fname in filenames]\n",
        "\n",
        "    pool = Pool(num_workers)\n",
        "    chunk_size = len(image_paths) // num_workers\n",
        "    chunks = [image_paths[i:i + chunk_size] for i in range(0, len(image_paths), chunk_size)]\n",
        "\n",
        "    results = pool.starmap(process_images, [(chunk, output_folder) for chunk in chunks])\n",
        "    pool.close()\n",
        "    pool.join()\n",
        "\n",
        "    blank_images = [img for sublist in results for img in sublist]\n",
        "    return blank_images\n",
        "\n",
        "if __name__ == \"__main__\":\n",
        "    image_folder = 'data/jpeg'\n",
        "    output_folder = 'data/blank'\n",
        "    blank_images = main(image_folder, output_folder)\n",
        "    print(f\"Moved {len(blank_images)} blank or nearly blank images.\")"
      ]
    },
    {
      "cell_type": "markdown",
      "metadata": {
        "id": "NSq-8dnMRvOL"
      },
      "source": [
        "#### Remove Explicit"
      ]
    },
    {
      "cell_type": "code",
      "execution_count": null,
      "metadata": {
        "id": "p18KbkfJv1Sw"
      },
      "outputs": [],
      "source": [
        "checklist = [\"sex\", \"girls\", \"xxx\", \"adult\", \"nipples\", \"porn\", \"nudity\", \"nude\", \"mature\", \"slut\", \"lesbi\", \"blowjob\", \"loli\", \"jav\", \"hentai\", \"brazzers\", \"casino\", ]"
      ]
    },
    {
      "cell_type": "code",
      "execution_count": null,
      "metadata": {
        "id": "iU8NVxnro29X"
      },
      "outputs": [],
      "source": [
        "explicit = [i for i in filenames if any(j in i.name.lower() for j in checklist)]"
      ]
    },
    {
      "cell_type": "code",
      "execution_count": null,
      "metadata": {
        "id": "9eeW_PbBR7KG"
      },
      "outputs": [],
      "source": [
        "len(explicit)"
      ]
    },
    {
      "cell_type": "code",
      "execution_count": null,
      "metadata": {
        "id": "FqnLa5hRAbsQ"
      },
      "outputs": [],
      "source": [
        "for i in explicit:\n",
        "    try:\n",
        "        os.remove(i.path)\n",
        "    except:\n",
        "        ..."
      ]
    },
    {
      "cell_type": "markdown",
      "metadata": {
        "id": "iLArYchElaPf"
      },
      "source": [
        "### Data Splitting"
      ]
    },
    {
      "cell_type": "code",
      "execution_count": null,
      "metadata": {
        "id": "eLHjX9fIuQFD"
      },
      "outputs": [],
      "source": [
        "!ls data"
      ]
    },
    {
      "cell_type": "code",
      "execution_count": null,
      "metadata": {
        "id": "pfK3rTcBsXVL"
      },
      "outputs": [],
      "source": [
        "from sklearn.model_selection import train_test_split\n",
        "import json\n",
        "import  os\n",
        "\n",
        "filenames = os.scandir('data/jpeg')\n",
        "filenames = [i.path for i in filenames]\n",
        "\n",
        "train_filenames, test_filenames = train_test_split(filenames, test_size=0.2, random_state=42)\n",
        "train_filenames, val_filenames = train_test_split(train_filenames, test_size=0.25, random_state=42)\n",
        "\n",
        "data_splits = {\n",
        "    'train': train_filenames,\n",
        "    'val': val_filenames,\n",
        "    'test': test_filenames\n",
        "}\n",
        "\n",
        "os.makedirs('data/CS_Detector', exist_ok=True)\n",
        "\n",
        "json.dump(data_splits, open('data/CS_Detector/data_splits.json', 'w'))"
      ]
    },
    {
      "cell_type": "markdown",
      "metadata": {
        "id": "QCB5Qq8Xun7o"
      },
      "source": [
        "### Data Pairing"
      ]
    },
    {
      "cell_type": "code",
      "execution_count": null,
      "metadata": {
        "id": "MeyzSTmxvfYq"
      },
      "outputs": [],
      "source": [
        "import json\n",
        "import os\n",
        "\n",
        "data_splits = json.load(open('data/CS_Detector/data_splits.json'))  # Load the JSON file"
      ]
    },
    {
      "cell_type": "code",
      "execution_count": null,
      "metadata": {
        "id": "PMubdjmYYhdW"
      },
      "outputs": [],
      "source": [
        "filenames = os.scandir('data/jpeg')"
      ]
    },
    {
      "cell_type": "code",
      "execution_count": null,
      "metadata": {
        "id": "PDejGbVDvCFG"
      },
      "outputs": [],
      "source": [
        "import numpy as np\n",
        "import math\n",
        "import random\n",
        "import pandas as pd\n",
        "from keras.preprocessing.image import ImageDataGenerator\n",
        "from tqdm.auto import tqdm\n",
        "import os, shutil\n",
        "from PIL import Image\n",
        "import cv2\n",
        "from concurrent.futures import ThreadPoolExecutor, as_completed\n",
        "import logging\n",
        "import gc\n",
        "\n",
        "# Set up logging\n",
        "logging.basicConfig(filename='error.log', level=logging.ERROR)\n",
        "\n",
        "\n",
        "np.random.seed(42)\n",
        "random.seed(42)\n",
        "\n",
        "# Initialize the data generator for augmentation\n",
        "datagen = ImageDataGenerator(\n",
        "    rotation_range=20,\n",
        "    width_shift_range=0.2,\n",
        "    height_shift_range=0.2,\n",
        "    zoom_range=0.2,\n",
        "    horizontal_flip=True,\n",
        "    vertical_flip=True,\n",
        "    fill_mode='nearest'\n",
        ")\n",
        "\n",
        "def generate_augmented_images(image, num_augmentations):\n",
        "    image = image.reshape((1,) + image.shape)  # Reshape for the generator\n",
        "    augmented_images = []\n",
        "    i = 0\n",
        "    for batch in datagen.flow(image, batch_size=1):\n",
        "        augmented_images.append(batch[0])\n",
        "        i += 1\n",
        "        if i >= num_augmentations:\n",
        "            break\n",
        "    return np.array(augmented_images)\n",
        "\n",
        "# Generate augmented pairs for each image\n",
        "\n",
        "def generate_image_pairs(image, images, num_augmentations=2):\n",
        "    try:\n",
        "        positive_pairs = []\n",
        "        negative_pairs = []\n",
        "\n",
        "        img = Image.open(image)\n",
        "        img = img.convert('RGB')\n",
        "        img = img.resize((598, 336))\n",
        "        img = np.array(img)\n",
        "\n",
        "        positive_pairs.append([img, img, 1])  # Pair original with original\n",
        "        augmented_images = generate_augmented_images(img, num_augmentations)\n",
        "\n",
        "        for i, aug_img in enumerate(augmented_images):\n",
        "            positive_pairs.append([img, aug_img, 1])  # Pair original with augmented\n",
        "            for j in range(i+1, num_augmentations):\n",
        "                other_aug_img = augmented_images[j]\n",
        "                if not np.array_equal(aug_img, other_aug_img):\n",
        "                    positive_pairs.append([aug_img, other_aug_img, 1])  # Pair augmented with augmented\n",
        "        # Create negative pairs (img1, img2)\n",
        "        N = math.comb(num_augmentations + 1, 2) + 1\n",
        "\n",
        "        for neg_image in random.sample(images, N):\n",
        "            if neg_image != image:\n",
        "                neg_img = Image.open(neg_image)\n",
        "                neg_img = neg_img.convert('RGB')\n",
        "                neg_img = neg_img.resize((598, 336))\n",
        "                neg_img = np.array(neg_img)\n",
        "                negative_pairs.append((img, neg_img, 0))\n",
        "            if len(negative_pairs) == len(positive_pairs):\n",
        "                break\n",
        "        # Combine positive and negative pairs\n",
        "        all_pairs = positive_pairs + negative_pairs\n",
        "        # random.shuffle(all_pairs)\n",
        "        return all_pairs\n",
        "    except Exception as e:\n",
        "        logging.error(f\"Error generating pairs for image {image}: {e}\")\n",
        "        return []\n",
        "\n",
        "a = generate_image_pairs('data/jpeg/1000kanalov-ru--.jpeg', ['data/jpeg/1000kanalov-ru--.jpeg']*20)"
      ]
    },
    {
      "cell_type": "code",
      "execution_count": null,
      "metadata": {
        "id": "izkuYHquxydu"
      },
      "outputs": [],
      "source": [
        "from matplotlib import pyplot as plt\n",
        "plt.axis('off')\n",
        "plt.imshow(a[0][0])"
      ]
    },
    {
      "cell_type": "code",
      "execution_count": null,
      "metadata": {
        "id": "BgTwZ-1Intu7"
      },
      "outputs": [],
      "source": [
        "!ls data/CS_Detector"
      ]
    },
    {
      "cell_type": "code",
      "execution_count": null,
      "metadata": {
        "id": "eCKj6Pe5lcr4"
      },
      "outputs": [],
      "source": [
        "import h5py\n",
        "\n",
        "def add_item_to_hdf5(filename, new_data):\n",
        "    with h5py.File(filename, 'a') as hf:\n",
        "        # Determine the next available index for the new item\n",
        "        item_index = len(hf.keys())\n",
        "\n",
        "        for pair in new_data:\n",
        "            arr1, arr2, label = pair\n",
        "            group = hf.create_group(f'item_{item_index}')\n",
        "            group.create_dataset('image1', data=arr1, compression=\"gzip\", compression_opts=9)\n",
        "            group.create_dataset('image2', data=arr2, compression=\"gzip\", compression_opts=9)\n",
        "            group.attrs['label'] = label\n",
        "            item_index += 1\n",
        "\n",
        "def generate_pairs(split, data_splits, n_workers=4, num_augmentations=2):\n",
        "    n_subset = len(data_splits[split])//8 + 32\n",
        "    images = data_splits[split][:n_subset]\n",
        "\n",
        "    # with ThreadPoolExecutor(max_workers=n_workers) as executor:\n",
        "        # futures = [executor.submit(generate_image_pairs, img, images, num_augmentations) for img in images]\n",
        "        # i = 0\n",
        "    filename = f'data/CS_Detector/{split}_pairs.h5'\n",
        "    # with h5py.File(f'data/CS_Detector/{split}_pairs.h5', 'w') as hf:\n",
        "    # for future in tqdm(as_completed(futures), total=len(futures)):\n",
        "    for img in tqdm(images):\n",
        "        result = generate_image_pairs(img, images, num_augmentations)\n",
        "        try:\n",
        "            add_item_to_hdf5(filename, result) # future.result())\n",
        "            # for pair in future.result():\n",
        "            #     arr1, arr2, label = pair\n",
        "            #     group = hf.create_group(f'item_{i}')\n",
        "            #     group.create_dataset('image1', data=arr1, compression=\"gzip\", compression_opts=9)\n",
        "            #     group.create_dataset('image2', data=arr2, compression=\"gzip\", compression_opts=9)\n",
        "            #     group.attrs['label'] = label\n",
        "            #     i += 1\n",
        "        except Exception as e:\n",
        "            logging.error(f\"Error in future result: {e}\")\n",
        "\n",
        "split = 'train'\n",
        "\n",
        "with h5py.File(f'data/CS_Detector/{split}_pairs.h5', 'w') as hf:\n",
        "    # START = len(hf.keys())\n",
        "    # print(START)\n",
        "    ...\n",
        "\n",
        "generate_pairs(split, data_splits)"
      ]
    },
    {
      "cell_type": "code",
      "execution_count": null,
      "metadata": {
        "id": "iDsZN18Oof5e"
      },
      "outputs": [],
      "source": [
        "with h5py.File(f'data/CS_Detector/train_pairs.h5', 'r') as hf:\n",
        "    print(len(hf.keys()))"
      ]
    },
    {
      "cell_type": "markdown",
      "metadata": {
        "id": "H8ISfFUfXrP5"
      },
      "source": [
        "## Create Embeddings"
      ]
    },
    {
      "cell_type": "code",
      "execution_count": null,
      "metadata": {
        "id": "Z5SllReicAuc"
      },
      "outputs": [],
      "source": [
        "import h5py\n",
        "from PIL import Image\n",
        "import torch\n",
        "from tqdm.auto import tqdm\n",
        "import numpy as np\n",
        "import matplotlib.pyplot as plt\n",
        "\n",
        "def add_item_to_hdf5(filename, new_data):\n",
        "    with h5py.File(filename, 'a') as hf:\n",
        "        # Determine the next available index for the new item\n",
        "        item_index = len(hf.keys())\n",
        "\n",
        "        for pair in new_data:\n",
        "            arr1, arr2, label = pair\n",
        "            group = hf.create_group(f'item_{item_index}')\n",
        "            group.create_dataset('image1', data=arr1, compression=\"gzip\", compression_opts=9)\n",
        "            group.create_dataset('image2', data=arr2, compression=\"gzip\", compression_opts=9)\n",
        "            group.attrs['label'] = label\n",
        "            item_index += 1\n",
        "\n",
        "def split_image_into_squares(img, overlap_ratio=0.25):\n",
        "    img = Image.fromarray(img.astype(np.uint8))\n",
        "    width, height = img.size\n",
        "    square_side = min(width, height)\n",
        "    step_size = int(square_side * (1 - overlap_ratio))  # Step size adjusted for overlap\n",
        "\n",
        "    squares = []\n",
        "    if width > height:\n",
        "        # Process width for overlaps\n",
        "        for start in range(0, width - square_side + 1, step_size):\n",
        "            square = img.crop((start, 0, start + square_side, height))\n",
        "            squares.append(square)\n",
        "        # Add the last piece if needed\n",
        "        if start + square_side < width:\n",
        "            square = img.crop((width - square_side, 0, width, height))\n",
        "            squares.append(square)\n",
        "    else:\n",
        "        # Process height for overlaps\n",
        "        for start in range(0, height - square_side + 1, step_size):\n",
        "            square = img.crop((0, start, width, start + square_side))\n",
        "            squares.append(square)\n",
        "        # Add the last piece if needed\n",
        "        if start + square_side < height:\n",
        "            square = img.crop((0, height - square_side, width, height))\n",
        "            squares.append(square)\n",
        "\n",
        "    return squares"
      ]
    },
    {
      "cell_type": "markdown",
      "metadata": {
        "id": "NDIBW-TzoKlx"
      },
      "source": [
        "## CLIP"
      ]
    },
    {
      "cell_type": "code",
      "execution_count": null,
      "metadata": {
        "id": "pOg2mA-CaIn0"
      },
      "outputs": [],
      "source": [
        "save_dir = \"data/CS_Detector/CLIP\"\n",
        "os.makedirs(save_dir, exist_ok=True)"
      ]
    },
    {
      "cell_type": "code",
      "execution_count": null,
      "metadata": {
        "colab": {
          "base_uri": "https://localhost:8080/"
        },
        "id": "CK2yA6vszFwB",
        "outputId": "1fbe859b-d2ab-41bb-8067-7843cc044cf4"
      },
      "outputs": [
        {
          "name": "stdout",
          "output_type": "stream",
          "text": [
            "  Preparing metadata (setup.py) ... \u001b[?25l\u001b[?25hdone\n",
            "\u001b[2K     \u001b[90m━━━━━━━━━━━━━━━━━━━━━━━━━━━━━━━━━━━━━━━━\u001b[0m \u001b[32m54.4/54.4 kB\u001b[0m \u001b[31m2.3 MB/s\u001b[0m eta \u001b[36m0:00:00\u001b[0m\n",
            "\u001b[2K     \u001b[90m━━━━━━━━━━━━━━━━━━━━━━━━━━━━━━━━━━━━━━━━\u001b[0m \u001b[32m21.3/21.3 MB\u001b[0m \u001b[31m66.8 MB/s\u001b[0m eta \u001b[36m0:00:00\u001b[0m\n",
            "\u001b[?25h  Building wheel for clip (setup.py) ... \u001b[?25l\u001b[?25hdone\n"
          ]
        }
      ],
      "source": [
        "try:\n",
        "    import clip\n",
        "except:\n",
        "    !pip install git+https://github.com/openai/CLIP.git -q\n",
        "    import clip"
      ]
    },
    {
      "cell_type": "code",
      "execution_count": null,
      "metadata": {
        "colab": {
          "base_uri": "https://localhost:8080/"
        },
        "id": "N3Y-UYZQHkUB",
        "outputId": "909892f4-8223-4ab5-9479-1c9413c9b30a"
      },
      "outputs": [
        {
          "name": "stderr",
          "output_type": "stream",
          "text": [
            "100%|███████████████████████████████████████| 891M/891M [00:16<00:00, 57.1MiB/s]\n"
          ]
        }
      ],
      "source": [
        "# Load the CLIP model and the preprocess function\n",
        "device = torch.device(\"cuda\" if torch.cuda.is_available() else \"cpu\")\n",
        "model, preprocess = clip.load('ViT-L/14@336px', device=device)"
      ]
    },
    {
      "cell_type": "markdown",
      "metadata": {
        "id": "b5ZrO9zZjYbT"
      },
      "source": [
        "#### Generate Data"
      ]
    },
    {
      "cell_type": "code",
      "execution_count": null,
      "metadata": {
        "colab": {
          "background_save": true,
          "base_uri": "https://localhost:8080/",
          "height": 35,
          "referenced_widgets": [
            "a9df73a0bbb643d082ef0904557e4744"
          ]
        },
        "id": "sa1O_d3prtkV",
        "outputId": "99e0d442-1fdc-480b-e304-033e0d55ab4c"
      },
      "outputs": [
        {
          "data": {
            "application/vnd.jupyter.widget-view+json": {
              "model_id": "a9df73a0bbb643d082ef0904557e4744",
              "version_major": 2,
              "version_minor": 0
            },
            "text/plain": [
              "  0%|          | 0/60179 [00:00<?, ?it/s]"
            ]
          },
          "metadata": {},
          "output_type": "display_data"
        }
      ],
      "source": [
        "def save_embeddings(split):\n",
        "    # Download the image\n",
        "\n",
        "    assert os.path.exists(f\"{save_dir}/{split}_pairs.h5\") == False, \"You risk overwriting this file...\"\n",
        "\n",
        "    with h5py.File(f\"{save_dir}/{split}_pairs.h5\", 'w') as hf:\n",
        "        ...\n",
        "\n",
        "    with h5py.File(f'data/CS_Detector/{split}_pairs.h5', 'r') as hf:\n",
        "        for item in tqdm(hf.keys()):\n",
        "            group = hf[item]\n",
        "            image1 = np.array(group['image1'])\n",
        "            image2 = np.array(group['image2'])\n",
        "            label = group.attrs['label']\n",
        "\n",
        "            images1 = split_image_into_squares(image1, 0.22)\n",
        "            images2 = split_image_into_squares(image2, 0.22)\n",
        "\n",
        "\n",
        "            data = []\n",
        "            for img1, img2 in zip(images1, images2):\n",
        "                img1 = preprocess(img1).unsqueeze(0).to(device)\n",
        "                img2 = preprocess(img2).unsqueeze(0).to(device)\n",
        "                with torch.no_grad():\n",
        "                    image_features1 = model.encode_image(img1)\n",
        "                    image_features2 = model.encode_image(img2)\n",
        "\n",
        "                image_features1 = image_features1.detach().cpu().numpy()\n",
        "                image_features2 = image_features2.detach().cpu().numpy()\n",
        "                data.append([image_features1, image_features2, label])\n",
        "\n",
        "            add_item_to_hdf5(f\"{save_dir}/{split}_pairs.h5\", data)\n",
        "\n",
        "save_embeddings('train')"
      ]
    },
    {
      "cell_type": "code",
      "execution_count": null,
      "metadata": {
        "colab": {
          "base_uri": "https://localhost:8080/"
        },
        "id": "xRLrl2npwEeq",
        "outputId": "af53a83d-6de9-4ca2-8edd-e64472c929b0"
      },
      "outputs": [
        {
          "name": "stdout",
          "output_type": "stream",
          "text": [
            "120358\n"
          ]
        }
      ],
      "source": [
        "split = 'train'\n",
        "mode = 'r'\n",
        "filename = f\"{save_dir}/{split}_pairs.h5\"\n",
        "if mode == 'w':\n",
        "    assert os.path.exists(filename) == True, \"You risk overwriting this file...\"\n",
        "\n",
        "with h5py.File(filename, mode) as hf:\n",
        "    print(len(hf.keys()))"
      ]
    },
    {
      "cell_type": "code",
      "execution_count": null,
      "metadata": {
        "colab": {
          "base_uri": "https://localhost:8080/"
        },
        "id": "JPXo8ostSZTM",
        "outputId": "2e408daf-8112-41a3-b7af-b2221afe239f"
      },
      "outputs": [
        {
          "name": "stdout",
          "output_type": "stream",
          "text": [
            "test_pairs.h5  train_pairs_first_third.h5  train_pairs.h5  val_pairs.h5\n"
          ]
        }
      ],
      "source": [
        "!ls data/CS_Detector/CLIP"
      ]
    },
    {
      "cell_type": "code",
      "execution_count": null,
      "metadata": {
        "colab": {
          "base_uri": "https://localhost:8080/",
          "height": 49,
          "referenced_widgets": [
            "950d83f7712a44c2a077aeab39deaf62",
            "e8f18b4067424e80a2c4dc0802cfa5f1",
            "c8693833be2148eb87ff543d7f3254d3",
            "349c00ec7b3c4f4abb54d0e53f4fc50a",
            "e7112270f496468784be2e8b49c151ef",
            "b220fed16a714767a953a43e10d726c1",
            "b0f20e7356204f04974f4750302f8fe1",
            "bd1153d9f5364a5da7a828e0fdb5459d",
            "fecc2980a2f546209c2026f473b4448c",
            "ca3173cf402e4e309e5e1032b23656a8",
            "1d9613372a594200aca98eacc952c988"
          ]
        },
        "id": "uVQmB3QhRbvI",
        "outputId": "fd2c7240-c459-4109-9e77-c140e1d77180"
      },
      "outputs": [
        {
          "data": {
            "application/vnd.jupyter.widget-view+json": {
              "model_id": "950d83f7712a44c2a077aeab39deaf62",
              "version_major": 2,
              "version_minor": 0
            },
            "text/plain": [
              "  0%|          | 0/20179 [00:00<?, ?it/s]"
            ]
          },
          "metadata": {},
          "output_type": "display_data"
        }
      ],
      "source": [
        "def save_embeddings(split):\n",
        "    # Download the image\n",
        "\n",
        "    filename = f\"{save_dir}/{split}_pairs.h5\"\n",
        "\n",
        "    if not os.path.exists(filename):\n",
        "        with h5py.File(filename, 'w') as hf:\n",
        "            ...\n",
        "\n",
        "    with h5py.File(f'data/CS_Detector/{split}_pairs.h5', 'r') as hf:\n",
        "        for item in tqdm(items[40000:]):\n",
        "            group = hf[item]\n",
        "            image1 = np.array(group['image1'])\n",
        "            image2 = np.array(group['image2'])\n",
        "            label = group.attrs['label']\n",
        "\n",
        "            images1 = split_image_into_squares(image1, 0.22)\n",
        "            images2 = split_image_into_squares(image2, 0.22)\n",
        "\n",
        "\n",
        "            data = []\n",
        "            for img1, img2 in zip(images1, images2):\n",
        "                img1 = preprocess(img1).unsqueeze(0).to(device)\n",
        "                img2 = preprocess(img2).unsqueeze(0).to(device)\n",
        "                with torch.no_grad():\n",
        "                    image_features1 = model.encode_image(img1)\n",
        "                    image_features2 = model.encode_image(img2)\n",
        "\n",
        "                image_features1 = image_features1.detach().cpu().numpy()\n",
        "                image_features2 = image_features2.detach().cpu().numpy()\n",
        "                data.append([image_features1, image_features2, label])\n",
        "\n",
        "            add_item_to_hdf5(filename, data)\n",
        "\n",
        "save_embeddings('train')"
      ]
    },
    {
      "cell_type": "markdown",
      "metadata": {
        "id": "M3HUFln6Yzsg"
      },
      "source": [
        "## MetaCLIP"
      ]
    },
    {
      "cell_type": "code",
      "execution_count": null,
      "metadata": {
        "id": "U8u2y5NaYzsm"
      },
      "outputs": [],
      "source": [
        "save_dir = \"data/CS_Detector/MetaCLIP\"\n",
        "os.makedirs(save_dir, exist_ok=True)"
      ]
    },
    {
      "cell_type": "code",
      "execution_count": null,
      "metadata": {
        "colab": {
          "base_uri": "https://localhost:8080/"
        },
        "collapsed": true,
        "id": "fRTfd4gHyBx4",
        "outputId": "f11b77dd-566d-4d0e-d15b-0206f1a9c8f3"
      },
      "outputs": [
        {
          "output_type": "stream",
          "name": "stdout",
          "text": [
            "\u001b[2K     \u001b[90m━━━━━━━━━━━━━━━━━━━━━━━━━━━━━━━━━━━━━━━━\u001b[0m \u001b[32m53.8/53.8 kB\u001b[0m \u001b[31m4.7 MB/s\u001b[0m eta \u001b[36m0:00:00\u001b[0m\n",
            "\u001b[2K   \u001b[90m━━━━━━━━━━━━━━━━━━━━━━━━━━━━━━━━━━━━━━━━\u001b[0m \u001b[32m1.5/1.5 MB\u001b[0m \u001b[31m49.5 MB/s\u001b[0m eta \u001b[36m0:00:00\u001b[0m\n",
            "\u001b[2K   \u001b[90m━━━━━━━━━━━━━━━━━━━━━━━━━━━━━━━━━━━━━━━━\u001b[0m \u001b[32m54.4/54.4 kB\u001b[0m \u001b[31m39.5 kB/s\u001b[0m eta \u001b[36m0:00:00\u001b[0m\n",
            "\u001b[2K   \u001b[90m━━━━━━━━━━━━━━━━━━━━━━━━━━━━━━━━━━━━━━━━\u001b[0m \u001b[32m2.3/2.3 MB\u001b[0m \u001b[31m86.0 MB/s\u001b[0m eta \u001b[36m0:00:00\u001b[0m\n",
            "\u001b[2K   \u001b[90m━━━━━━━━━━━━━━━━━━━━━━━━━━━━━━━━━━━━━━━━\u001b[0m \u001b[32m21.3/21.3 MB\u001b[0m \u001b[31m94.1 MB/s\u001b[0m eta \u001b[36m0:00:00\u001b[0m\n",
            "\u001b[?25h"
          ]
        }
      ],
      "source": [
        "!pip install open_clip_torch -q"
      ]
    },
    {
      "cell_type": "code",
      "execution_count": null,
      "metadata": {
        "id": "p6O850CaYzsm"
      },
      "outputs": [],
      "source": [
        "import open_clip\n",
        "import torch\n",
        "from PIL import Image"
      ]
    },
    {
      "cell_type": "code",
      "execution_count": null,
      "metadata": {
        "colab": {
          "base_uri": "https://localhost:8080/"
        },
        "collapsed": true,
        "id": "7KyX7Dqd0BUZ",
        "outputId": "1eca9cd2-d2fb-4268-df5f-af988bb7bb2e"
      },
      "outputs": [
        {
          "output_type": "stream",
          "name": "stderr",
          "text": [
            "100%|██████████████████████████████████████| 11.8G/11.8G [00:54<00:00, 216MiB/s]\n"
          ]
        }
      ],
      "source": [
        "device = torch.device(\"cuda\" if torch.cuda.is_available() else \"cpu\")\n",
        "model, _, preprocess = open_clip.create_model_and_transforms('ViT-H-14-quickgelu', pretrained='metaclip_fullcc', device=device)  # for 2.5B use 'metaclip_fullcc' in OpenCLIP or 'metaclip_2_5b' in this repo"
      ]
    },
    {
      "cell_type": "markdown",
      "metadata": {
        "id": "TT7jZc3Y3F4x"
      },
      "source": [
        "#### Generate Data"
      ]
    },
    {
      "cell_type": "code",
      "execution_count": null,
      "metadata": {
        "colab": {
          "base_uri": "https://localhost:8080/"
        },
        "id": "qAX1rXdb3F44",
        "outputId": "ca742aca-d6b4-4302-fe85-b634f28dee0a"
      },
      "outputs": [
        {
          "output_type": "stream",
          "name": "stdout",
          "text": [
            "test_pairs.h5  train_pairs.h5  val_pairs.h5\n"
          ]
        }
      ],
      "source": [
        "!ls data/CS_Detector/MetaCLIP"
      ]
    },
    {
      "cell_type": "code",
      "execution_count": null,
      "metadata": {
        "colab": {
          "base_uri": "https://localhost:8080/",
          "height": 66,
          "referenced_widgets": [
            "335453e86d504f50b6694d7922867786",
            "aa5ee025d8404cd8922ee6538d2fe845",
            "ea383f0e3d7c4b4fbd059cc5769b3756",
            "64520c6eb57140d99381ff7ba95dba5d",
            "3067d3c86ffd4d41ad66ba9f36277ee7",
            "d32154326bd3443085d6116307405bce",
            "6f8aeb1c32b44f4da47b85edd4adc749",
            "cbcf0f961c58479896b630d9b4e4fced",
            "ea76e7c55e7b410997e5033b74360cca",
            "643c9518bb834e65b351d0f1afdf3c30",
            "e6fa76e109db4a2a88c49c8535c36e9f"
          ]
        },
        "id": "L_IN5VVmJRBZ",
        "outputId": "4bd55ef3-821c-469c-ffcd-e2491bc2d46c"
      },
      "outputs": [
        {
          "output_type": "stream",
          "name": "stdout",
          "text": [
            "Starting at:  80000\n"
          ]
        },
        {
          "output_type": "display_data",
          "data": {
            "text/plain": [
              "  0%|          | 0/20179 [00:00<?, ?it/s]"
            ],
            "application/vnd.jupyter.widget-view+json": {
              "version_major": 2,
              "version_minor": 0,
              "model_id": "335453e86d504f50b6694d7922867786"
            }
          },
          "metadata": {}
        }
      ],
      "source": [
        "def save_meta_embeddings(split, mode='w'):\n",
        "    # Download the image\n",
        "\n",
        "    filename = f\"{save_dir}/{split}_pairs.h5\"\n",
        "\n",
        "    assert not (os.path.exists(filename) and mode == 'w'), 'You risk overwriting the file.'\n",
        "\n",
        "    with h5py.File(filename, mode) as hfw:\n",
        "        item_index = len(hfw.keys())\n",
        "        print(\"Starting at: \", item_index)\n",
        "        with h5py.File(f'data/CS_Detector/{split}_pairs.h5', 'r') as hf:\n",
        "            for item in tqdm(list(hf.keys())[40_000:]):\n",
        "                group = hf[item]\n",
        "                image1 = np.array(group['image1'])\n",
        "                image2 = np.array(group['image2'])\n",
        "                label = group.attrs['label']\n",
        "\n",
        "                images1 = split_image_into_squares(image1, 0.22)\n",
        "                images2 = split_image_into_squares(image2, 0.22)\n",
        "\n",
        "\n",
        "                for img1, img2 in zip(images1, images2):\n",
        "                    img1 = preprocess(img1).unsqueeze(0).to(device)\n",
        "                    img2 = preprocess(img2).unsqueeze(0).to(device)\n",
        "                    with torch.no_grad():\n",
        "                        image_features1 = model.encode_image(img1)\n",
        "                        image_features2 = model.encode_image(img2)\n",
        "\n",
        "                    image_features1 = image_features1.detach().cpu().numpy()\n",
        "                    image_features2 = image_features2.detach().cpu().numpy()\n",
        "\n",
        "                    group = hfw.create_group(f'item_{item_index}')\n",
        "                    group.create_dataset('image1', data=image_features1, compression=\"gzip\", compression_opts=9)\n",
        "                    group.create_dataset('image2', data=image_features2, compression=\"gzip\", compression_opts=9)\n",
        "                    group.attrs['label'] = label\n",
        "                    item_index += 1\n",
        "\n",
        "save_meta_embeddings('train', 'a')"
      ]
    },
    {
      "cell_type": "markdown",
      "source": [
        "# Preparing data for SSL with TF Similarity"
      ],
      "metadata": {
        "id": "oAFL9lu7l_Vx"
      }
    },
    {
      "cell_type": "code",
      "source": [],
      "metadata": {
        "id": "H66MOFbImBQu"
      },
      "execution_count": null,
      "outputs": []
    }
  ],
  "metadata": {
    "colab": {
      "collapsed_sections": [
        "YIyIe-_ZMeth",
        "8WmkTdwvKi-H",
        "7LuVxa4f5owi",
        "l572uLFUpJuv",
        "NSq-8dnMRvOL",
        "iLArYchElaPf",
        "QCB5Qq8Xun7o",
        "H8ISfFUfXrP5",
        "NDIBW-TzoKlx",
        "oAFL9lu7l_Vx"
      ],
      "machine_shape": "hm",
      "provenance": [],
      "mount_file_id": "1SjoiOGOm9WGyQy9_Tli-ADHzm68MP8QP",
      "authorship_tag": "ABX9TyPrabDYXMA9JofedsqdYsw0",
      "include_colab_link": true
    },
    "kernelspec": {
      "display_name": "Python 3",
      "name": "python3"
    },
    "language_info": {
      "name": "python"
    },
    "widgets": {
      "application/vnd.jupyter.widget-state+json": {
        "1d9613372a594200aca98eacc952c988": {
          "model_module": "@jupyter-widgets/controls",
          "model_module_version": "1.5.0",
          "model_name": "DescriptionStyleModel",
          "state": {
            "_model_module": "@jupyter-widgets/controls",
            "_model_module_version": "1.5.0",
            "_model_name": "DescriptionStyleModel",
            "_view_count": null,
            "_view_module": "@jupyter-widgets/base",
            "_view_module_version": "1.2.0",
            "_view_name": "StyleView",
            "description_width": ""
          }
        },
        "349c00ec7b3c4f4abb54d0e53f4fc50a": {
          "model_module": "@jupyter-widgets/controls",
          "model_module_version": "1.5.0",
          "model_name": "HTMLModel",
          "state": {
            "_dom_classes": [],
            "_model_module": "@jupyter-widgets/controls",
            "_model_module_version": "1.5.0",
            "_model_name": "HTMLModel",
            "_view_count": null,
            "_view_module": "@jupyter-widgets/controls",
            "_view_module_version": "1.5.0",
            "_view_name": "HTMLView",
            "description": "",
            "description_tooltip": null,
            "layout": "IPY_MODEL_ca3173cf402e4e309e5e1032b23656a8",
            "placeholder": "​",
            "style": "IPY_MODEL_1d9613372a594200aca98eacc952c988",
            "value": " 20179/20179 [7:21:26&lt;00:00,  1.69s/it]"
          }
        },
        "950d83f7712a44c2a077aeab39deaf62": {
          "model_module": "@jupyter-widgets/controls",
          "model_module_version": "1.5.0",
          "model_name": "HBoxModel",
          "state": {
            "_dom_classes": [],
            "_model_module": "@jupyter-widgets/controls",
            "_model_module_version": "1.5.0",
            "_model_name": "HBoxModel",
            "_view_count": null,
            "_view_module": "@jupyter-widgets/controls",
            "_view_module_version": "1.5.0",
            "_view_name": "HBoxView",
            "box_style": "",
            "children": [
              "IPY_MODEL_e8f18b4067424e80a2c4dc0802cfa5f1",
              "IPY_MODEL_c8693833be2148eb87ff543d7f3254d3",
              "IPY_MODEL_349c00ec7b3c4f4abb54d0e53f4fc50a"
            ],
            "layout": "IPY_MODEL_e7112270f496468784be2e8b49c151ef"
          }
        },
        "b0f20e7356204f04974f4750302f8fe1": {
          "model_module": "@jupyter-widgets/controls",
          "model_module_version": "1.5.0",
          "model_name": "DescriptionStyleModel",
          "state": {
            "_model_module": "@jupyter-widgets/controls",
            "_model_module_version": "1.5.0",
            "_model_name": "DescriptionStyleModel",
            "_view_count": null,
            "_view_module": "@jupyter-widgets/base",
            "_view_module_version": "1.2.0",
            "_view_name": "StyleView",
            "description_width": ""
          }
        },
        "b220fed16a714767a953a43e10d726c1": {
          "model_module": "@jupyter-widgets/base",
          "model_module_version": "1.2.0",
          "model_name": "LayoutModel",
          "state": {
            "_model_module": "@jupyter-widgets/base",
            "_model_module_version": "1.2.0",
            "_model_name": "LayoutModel",
            "_view_count": null,
            "_view_module": "@jupyter-widgets/base",
            "_view_module_version": "1.2.0",
            "_view_name": "LayoutView",
            "align_content": null,
            "align_items": null,
            "align_self": null,
            "border": null,
            "bottom": null,
            "display": null,
            "flex": null,
            "flex_flow": null,
            "grid_area": null,
            "grid_auto_columns": null,
            "grid_auto_flow": null,
            "grid_auto_rows": null,
            "grid_column": null,
            "grid_gap": null,
            "grid_row": null,
            "grid_template_areas": null,
            "grid_template_columns": null,
            "grid_template_rows": null,
            "height": null,
            "justify_content": null,
            "justify_items": null,
            "left": null,
            "margin": null,
            "max_height": null,
            "max_width": null,
            "min_height": null,
            "min_width": null,
            "object_fit": null,
            "object_position": null,
            "order": null,
            "overflow": null,
            "overflow_x": null,
            "overflow_y": null,
            "padding": null,
            "right": null,
            "top": null,
            "visibility": null,
            "width": null
          }
        },
        "bd1153d9f5364a5da7a828e0fdb5459d": {
          "model_module": "@jupyter-widgets/base",
          "model_module_version": "1.2.0",
          "model_name": "LayoutModel",
          "state": {
            "_model_module": "@jupyter-widgets/base",
            "_model_module_version": "1.2.0",
            "_model_name": "LayoutModel",
            "_view_count": null,
            "_view_module": "@jupyter-widgets/base",
            "_view_module_version": "1.2.0",
            "_view_name": "LayoutView",
            "align_content": null,
            "align_items": null,
            "align_self": null,
            "border": null,
            "bottom": null,
            "display": null,
            "flex": null,
            "flex_flow": null,
            "grid_area": null,
            "grid_auto_columns": null,
            "grid_auto_flow": null,
            "grid_auto_rows": null,
            "grid_column": null,
            "grid_gap": null,
            "grid_row": null,
            "grid_template_areas": null,
            "grid_template_columns": null,
            "grid_template_rows": null,
            "height": null,
            "justify_content": null,
            "justify_items": null,
            "left": null,
            "margin": null,
            "max_height": null,
            "max_width": null,
            "min_height": null,
            "min_width": null,
            "object_fit": null,
            "object_position": null,
            "order": null,
            "overflow": null,
            "overflow_x": null,
            "overflow_y": null,
            "padding": null,
            "right": null,
            "top": null,
            "visibility": null,
            "width": null
          }
        },
        "c8693833be2148eb87ff543d7f3254d3": {
          "model_module": "@jupyter-widgets/controls",
          "model_module_version": "1.5.0",
          "model_name": "FloatProgressModel",
          "state": {
            "_dom_classes": [],
            "_model_module": "@jupyter-widgets/controls",
            "_model_module_version": "1.5.0",
            "_model_name": "FloatProgressModel",
            "_view_count": null,
            "_view_module": "@jupyter-widgets/controls",
            "_view_module_version": "1.5.0",
            "_view_name": "ProgressView",
            "bar_style": "success",
            "description": "",
            "description_tooltip": null,
            "layout": "IPY_MODEL_bd1153d9f5364a5da7a828e0fdb5459d",
            "max": 20179,
            "min": 0,
            "orientation": "horizontal",
            "style": "IPY_MODEL_fecc2980a2f546209c2026f473b4448c",
            "value": 20179
          }
        },
        "ca3173cf402e4e309e5e1032b23656a8": {
          "model_module": "@jupyter-widgets/base",
          "model_module_version": "1.2.0",
          "model_name": "LayoutModel",
          "state": {
            "_model_module": "@jupyter-widgets/base",
            "_model_module_version": "1.2.0",
            "_model_name": "LayoutModel",
            "_view_count": null,
            "_view_module": "@jupyter-widgets/base",
            "_view_module_version": "1.2.0",
            "_view_name": "LayoutView",
            "align_content": null,
            "align_items": null,
            "align_self": null,
            "border": null,
            "bottom": null,
            "display": null,
            "flex": null,
            "flex_flow": null,
            "grid_area": null,
            "grid_auto_columns": null,
            "grid_auto_flow": null,
            "grid_auto_rows": null,
            "grid_column": null,
            "grid_gap": null,
            "grid_row": null,
            "grid_template_areas": null,
            "grid_template_columns": null,
            "grid_template_rows": null,
            "height": null,
            "justify_content": null,
            "justify_items": null,
            "left": null,
            "margin": null,
            "max_height": null,
            "max_width": null,
            "min_height": null,
            "min_width": null,
            "object_fit": null,
            "object_position": null,
            "order": null,
            "overflow": null,
            "overflow_x": null,
            "overflow_y": null,
            "padding": null,
            "right": null,
            "top": null,
            "visibility": null,
            "width": null
          }
        },
        "e7112270f496468784be2e8b49c151ef": {
          "model_module": "@jupyter-widgets/base",
          "model_module_version": "1.2.0",
          "model_name": "LayoutModel",
          "state": {
            "_model_module": "@jupyter-widgets/base",
            "_model_module_version": "1.2.0",
            "_model_name": "LayoutModel",
            "_view_count": null,
            "_view_module": "@jupyter-widgets/base",
            "_view_module_version": "1.2.0",
            "_view_name": "LayoutView",
            "align_content": null,
            "align_items": null,
            "align_self": null,
            "border": null,
            "bottom": null,
            "display": null,
            "flex": null,
            "flex_flow": null,
            "grid_area": null,
            "grid_auto_columns": null,
            "grid_auto_flow": null,
            "grid_auto_rows": null,
            "grid_column": null,
            "grid_gap": null,
            "grid_row": null,
            "grid_template_areas": null,
            "grid_template_columns": null,
            "grid_template_rows": null,
            "height": null,
            "justify_content": null,
            "justify_items": null,
            "left": null,
            "margin": null,
            "max_height": null,
            "max_width": null,
            "min_height": null,
            "min_width": null,
            "object_fit": null,
            "object_position": null,
            "order": null,
            "overflow": null,
            "overflow_x": null,
            "overflow_y": null,
            "padding": null,
            "right": null,
            "top": null,
            "visibility": null,
            "width": null
          }
        },
        "e8f18b4067424e80a2c4dc0802cfa5f1": {
          "model_module": "@jupyter-widgets/controls",
          "model_module_version": "1.5.0",
          "model_name": "HTMLModel",
          "state": {
            "_dom_classes": [],
            "_model_module": "@jupyter-widgets/controls",
            "_model_module_version": "1.5.0",
            "_model_name": "HTMLModel",
            "_view_count": null,
            "_view_module": "@jupyter-widgets/controls",
            "_view_module_version": "1.5.0",
            "_view_name": "HTMLView",
            "description": "",
            "description_tooltip": null,
            "layout": "IPY_MODEL_b220fed16a714767a953a43e10d726c1",
            "placeholder": "​",
            "style": "IPY_MODEL_b0f20e7356204f04974f4750302f8fe1",
            "value": "100%"
          }
        },
        "fecc2980a2f546209c2026f473b4448c": {
          "model_module": "@jupyter-widgets/controls",
          "model_module_version": "1.5.0",
          "model_name": "ProgressStyleModel",
          "state": {
            "_model_module": "@jupyter-widgets/controls",
            "_model_module_version": "1.5.0",
            "_model_name": "ProgressStyleModel",
            "_view_count": null,
            "_view_module": "@jupyter-widgets/base",
            "_view_module_version": "1.2.0",
            "_view_name": "StyleView",
            "bar_color": null,
            "description_width": ""
          }
        },
        "335453e86d504f50b6694d7922867786": {
          "model_module": "@jupyter-widgets/controls",
          "model_name": "HBoxModel",
          "model_module_version": "1.5.0",
          "state": {
            "_dom_classes": [],
            "_model_module": "@jupyter-widgets/controls",
            "_model_module_version": "1.5.0",
            "_model_name": "HBoxModel",
            "_view_count": null,
            "_view_module": "@jupyter-widgets/controls",
            "_view_module_version": "1.5.0",
            "_view_name": "HBoxView",
            "box_style": "",
            "children": [
              "IPY_MODEL_aa5ee025d8404cd8922ee6538d2fe845",
              "IPY_MODEL_ea383f0e3d7c4b4fbd059cc5769b3756",
              "IPY_MODEL_64520c6eb57140d99381ff7ba95dba5d"
            ],
            "layout": "IPY_MODEL_3067d3c86ffd4d41ad66ba9f36277ee7"
          }
        },
        "aa5ee025d8404cd8922ee6538d2fe845": {
          "model_module": "@jupyter-widgets/controls",
          "model_name": "HTMLModel",
          "model_module_version": "1.5.0",
          "state": {
            "_dom_classes": [],
            "_model_module": "@jupyter-widgets/controls",
            "_model_module_version": "1.5.0",
            "_model_name": "HTMLModel",
            "_view_count": null,
            "_view_module": "@jupyter-widgets/controls",
            "_view_module_version": "1.5.0",
            "_view_name": "HTMLView",
            "description": "",
            "description_tooltip": null,
            "layout": "IPY_MODEL_d32154326bd3443085d6116307405bce",
            "placeholder": "​",
            "style": "IPY_MODEL_6f8aeb1c32b44f4da47b85edd4adc749",
            "value": "100%"
          }
        },
        "ea383f0e3d7c4b4fbd059cc5769b3756": {
          "model_module": "@jupyter-widgets/controls",
          "model_name": "FloatProgressModel",
          "model_module_version": "1.5.0",
          "state": {
            "_dom_classes": [],
            "_model_module": "@jupyter-widgets/controls",
            "_model_module_version": "1.5.0",
            "_model_name": "FloatProgressModel",
            "_view_count": null,
            "_view_module": "@jupyter-widgets/controls",
            "_view_module_version": "1.5.0",
            "_view_name": "ProgressView",
            "bar_style": "success",
            "description": "",
            "description_tooltip": null,
            "layout": "IPY_MODEL_cbcf0f961c58479896b630d9b4e4fced",
            "max": 20179,
            "min": 0,
            "orientation": "horizontal",
            "style": "IPY_MODEL_ea76e7c55e7b410997e5033b74360cca",
            "value": 20179
          }
        },
        "64520c6eb57140d99381ff7ba95dba5d": {
          "model_module": "@jupyter-widgets/controls",
          "model_name": "HTMLModel",
          "model_module_version": "1.5.0",
          "state": {
            "_dom_classes": [],
            "_model_module": "@jupyter-widgets/controls",
            "_model_module_version": "1.5.0",
            "_model_name": "HTMLModel",
            "_view_count": null,
            "_view_module": "@jupyter-widgets/controls",
            "_view_module_version": "1.5.0",
            "_view_name": "HTMLView",
            "description": "",
            "description_tooltip": null,
            "layout": "IPY_MODEL_643c9518bb834e65b351d0f1afdf3c30",
            "placeholder": "​",
            "style": "IPY_MODEL_e6fa76e109db4a2a88c49c8535c36e9f",
            "value": " 20179/20179 [3:09:53&lt;00:00,  1.78it/s]"
          }
        },
        "3067d3c86ffd4d41ad66ba9f36277ee7": {
          "model_module": "@jupyter-widgets/base",
          "model_name": "LayoutModel",
          "model_module_version": "1.2.0",
          "state": {
            "_model_module": "@jupyter-widgets/base",
            "_model_module_version": "1.2.0",
            "_model_name": "LayoutModel",
            "_view_count": null,
            "_view_module": "@jupyter-widgets/base",
            "_view_module_version": "1.2.0",
            "_view_name": "LayoutView",
            "align_content": null,
            "align_items": null,
            "align_self": null,
            "border": null,
            "bottom": null,
            "display": null,
            "flex": null,
            "flex_flow": null,
            "grid_area": null,
            "grid_auto_columns": null,
            "grid_auto_flow": null,
            "grid_auto_rows": null,
            "grid_column": null,
            "grid_gap": null,
            "grid_row": null,
            "grid_template_areas": null,
            "grid_template_columns": null,
            "grid_template_rows": null,
            "height": null,
            "justify_content": null,
            "justify_items": null,
            "left": null,
            "margin": null,
            "max_height": null,
            "max_width": null,
            "min_height": null,
            "min_width": null,
            "object_fit": null,
            "object_position": null,
            "order": null,
            "overflow": null,
            "overflow_x": null,
            "overflow_y": null,
            "padding": null,
            "right": null,
            "top": null,
            "visibility": null,
            "width": null
          }
        },
        "d32154326bd3443085d6116307405bce": {
          "model_module": "@jupyter-widgets/base",
          "model_name": "LayoutModel",
          "model_module_version": "1.2.0",
          "state": {
            "_model_module": "@jupyter-widgets/base",
            "_model_module_version": "1.2.0",
            "_model_name": "LayoutModel",
            "_view_count": null,
            "_view_module": "@jupyter-widgets/base",
            "_view_module_version": "1.2.0",
            "_view_name": "LayoutView",
            "align_content": null,
            "align_items": null,
            "align_self": null,
            "border": null,
            "bottom": null,
            "display": null,
            "flex": null,
            "flex_flow": null,
            "grid_area": null,
            "grid_auto_columns": null,
            "grid_auto_flow": null,
            "grid_auto_rows": null,
            "grid_column": null,
            "grid_gap": null,
            "grid_row": null,
            "grid_template_areas": null,
            "grid_template_columns": null,
            "grid_template_rows": null,
            "height": null,
            "justify_content": null,
            "justify_items": null,
            "left": null,
            "margin": null,
            "max_height": null,
            "max_width": null,
            "min_height": null,
            "min_width": null,
            "object_fit": null,
            "object_position": null,
            "order": null,
            "overflow": null,
            "overflow_x": null,
            "overflow_y": null,
            "padding": null,
            "right": null,
            "top": null,
            "visibility": null,
            "width": null
          }
        },
        "6f8aeb1c32b44f4da47b85edd4adc749": {
          "model_module": "@jupyter-widgets/controls",
          "model_name": "DescriptionStyleModel",
          "model_module_version": "1.5.0",
          "state": {
            "_model_module": "@jupyter-widgets/controls",
            "_model_module_version": "1.5.0",
            "_model_name": "DescriptionStyleModel",
            "_view_count": null,
            "_view_module": "@jupyter-widgets/base",
            "_view_module_version": "1.2.0",
            "_view_name": "StyleView",
            "description_width": ""
          }
        },
        "cbcf0f961c58479896b630d9b4e4fced": {
          "model_module": "@jupyter-widgets/base",
          "model_name": "LayoutModel",
          "model_module_version": "1.2.0",
          "state": {
            "_model_module": "@jupyter-widgets/base",
            "_model_module_version": "1.2.0",
            "_model_name": "LayoutModel",
            "_view_count": null,
            "_view_module": "@jupyter-widgets/base",
            "_view_module_version": "1.2.0",
            "_view_name": "LayoutView",
            "align_content": null,
            "align_items": null,
            "align_self": null,
            "border": null,
            "bottom": null,
            "display": null,
            "flex": null,
            "flex_flow": null,
            "grid_area": null,
            "grid_auto_columns": null,
            "grid_auto_flow": null,
            "grid_auto_rows": null,
            "grid_column": null,
            "grid_gap": null,
            "grid_row": null,
            "grid_template_areas": null,
            "grid_template_columns": null,
            "grid_template_rows": null,
            "height": null,
            "justify_content": null,
            "justify_items": null,
            "left": null,
            "margin": null,
            "max_height": null,
            "max_width": null,
            "min_height": null,
            "min_width": null,
            "object_fit": null,
            "object_position": null,
            "order": null,
            "overflow": null,
            "overflow_x": null,
            "overflow_y": null,
            "padding": null,
            "right": null,
            "top": null,
            "visibility": null,
            "width": null
          }
        },
        "ea76e7c55e7b410997e5033b74360cca": {
          "model_module": "@jupyter-widgets/controls",
          "model_name": "ProgressStyleModel",
          "model_module_version": "1.5.0",
          "state": {
            "_model_module": "@jupyter-widgets/controls",
            "_model_module_version": "1.5.0",
            "_model_name": "ProgressStyleModel",
            "_view_count": null,
            "_view_module": "@jupyter-widgets/base",
            "_view_module_version": "1.2.0",
            "_view_name": "StyleView",
            "bar_color": null,
            "description_width": ""
          }
        },
        "643c9518bb834e65b351d0f1afdf3c30": {
          "model_module": "@jupyter-widgets/base",
          "model_name": "LayoutModel",
          "model_module_version": "1.2.0",
          "state": {
            "_model_module": "@jupyter-widgets/base",
            "_model_module_version": "1.2.0",
            "_model_name": "LayoutModel",
            "_view_count": null,
            "_view_module": "@jupyter-widgets/base",
            "_view_module_version": "1.2.0",
            "_view_name": "LayoutView",
            "align_content": null,
            "align_items": null,
            "align_self": null,
            "border": null,
            "bottom": null,
            "display": null,
            "flex": null,
            "flex_flow": null,
            "grid_area": null,
            "grid_auto_columns": null,
            "grid_auto_flow": null,
            "grid_auto_rows": null,
            "grid_column": null,
            "grid_gap": null,
            "grid_row": null,
            "grid_template_areas": null,
            "grid_template_columns": null,
            "grid_template_rows": null,
            "height": null,
            "justify_content": null,
            "justify_items": null,
            "left": null,
            "margin": null,
            "max_height": null,
            "max_width": null,
            "min_height": null,
            "min_width": null,
            "object_fit": null,
            "object_position": null,
            "order": null,
            "overflow": null,
            "overflow_x": null,
            "overflow_y": null,
            "padding": null,
            "right": null,
            "top": null,
            "visibility": null,
            "width": null
          }
        },
        "e6fa76e109db4a2a88c49c8535c36e9f": {
          "model_module": "@jupyter-widgets/controls",
          "model_name": "DescriptionStyleModel",
          "model_module_version": "1.5.0",
          "state": {
            "_model_module": "@jupyter-widgets/controls",
            "_model_module_version": "1.5.0",
            "_model_name": "DescriptionStyleModel",
            "_view_count": null,
            "_view_module": "@jupyter-widgets/base",
            "_view_module_version": "1.2.0",
            "_view_name": "StyleView",
            "description_width": ""
          }
        }
      }
    }
  },
  "nbformat": 4,
  "nbformat_minor": 0
}